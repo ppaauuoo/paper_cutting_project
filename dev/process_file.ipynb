{
 "cells": [
  {
   "cell_type": "code",
   "execution_count": 2,
   "metadata": {},
   "outputs": [],
   "source": [
    "import pandas as pd"
   ]
  },
  {
   "cell_type": "code",
   "execution_count": 8,
   "metadata": {},
   "outputs": [],
   "source": [
    "ordplan = pd.read_csv('./data/true_ordplan.csv', header=None)\n",
    "\n",
    "col_to_drop = (\n",
    "            list(range(9, 12))\n",
    "            + list(range(13, 14))\n",
    "            + list(range(15, 18))\n",
    "            + list(range(19, 26))\n",
    "        )\n",
    "ordplan = ordplan.drop(columns=col_to_drop, axis=1)\n",
    "\n",
    "col = [\n",
    "            \"กำหนดส่ง\",\n",
    "            \"แผ่นหน้า\",\n",
    "            \"ลอน C\",\n",
    "            \"แผ่นกลาง\",\n",
    "            \"ลอน B\",\n",
    "            \"แผ่นหลัง\",\n",
    "            \"จำนวนชั้น\",\n",
    "            \"ตัดกว้าง\",\n",
    "            \"ตัดยาว\",\n",
    "            \"เลขที่ใบสั่งขาย\",\n",
    "            \"จำนวนสั่งขาย\",\n",
    "            \"ประเภททับเส้น\",\n",
    "        ]\n",
    "ordplan.columns = col\n",
    "\n",
    "new_col = [\"เลขที่ใบสั่งขาย\"] + [\n",
    "            col for col in ordplan.columns if col != \"เลขที่ใบสั่งขาย\"\n",
    "        ]\n",
    "ordplan = ordplan.reindex(columns=new_col)\n",
    "ordplan[\"เลขที่ใบสั่งขาย\"] = (\n",
    "            ordplan[\"เลขที่ใบสั่งขาย\"].astype(str).str.replace(\"121811\", \"x\")\n",
    "        )\n",
    "\n",
    "ordplan = ordplan[\n",
    "            (ordplan[\"ตัดกว้าง\"] != 0) & (ordplan[\"ตัดยาว\"] != 0)\n",
    "        ]  # filter out zero values -> index misaligned\n",
    "\n",
    "ordplan[\"ตัดกว้าง\"] = round(ordplan[\"ตัดกว้าง\"] / 25.4, 4)\n",
    "ordplan[\"ตัดยาว\"] = round(ordplan[\"ตัดยาว\"] / 25.4, 4)\n",
    "\n",
    "ordplan[\"จำนวนสั่งขาย\"] = ordplan[\"จำนวนสั่งขาย\"].str.replace(\n",
    "            \",\", \"\"\n",
    "        )  # fix error values ex. 10,00 -> 1000\n",
    "ordplan.fillna(0, inplace=True)  # fix error values ex. , -> NA\n",
    "ordplan[\"จำนวนสั่งขาย\"] = ordplan[\"จำนวนสั่งขาย\"].astype(int)  # turns str -> int\n",
    "\n",
    "ordplan.to_csv('output.csv', encoding='utf-8')"
   ]
  },
  {
   "cell_type": "code",
   "execution_count": null,
   "metadata": {},
   "outputs": [],
   "source": []
  }
 ],
 "metadata": {
  "kernelspec": {
   "display_name": ".venv",
   "language": "python",
   "name": "python3"
  },
  "language_info": {
   "codemirror_mode": {
    "name": "ipython",
    "version": 3
   },
   "file_extension": ".py",
   "mimetype": "text/x-python",
   "name": "python",
   "nbconvert_exporter": "python",
   "pygments_lexer": "ipython3",
   "version": "3.11.9"
  }
 },
 "nbformat": 4,
 "nbformat_minor": 2
}
