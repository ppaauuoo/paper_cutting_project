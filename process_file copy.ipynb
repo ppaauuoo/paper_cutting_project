{
 "cells": [
  {
   "cell_type": "code",
   "execution_count": 1,
   "metadata": {},
   "outputs": [],
   "source": [
    "import pandas as pd"
   ]
  },
  {
   "cell_type": "code",
   "execution_count": 2,
   "metadata": {},
   "outputs": [],
   "source": [
    "path = 'media\\data\\order2024.xlsx'\n",
    "\n",
    "ordplan = pd.read_excel(path, engine='openpyxl')\n",
    "       \n",
    "col = [\n",
    "            \"กำหนดส่ง\",\n",
    "            \"กว้างผลิต\",\n",
    "            \"ยาวผลิต\",\n",
    "            \"เลขที่ใบสั่งขาย\",\n",
    "            \"จำนวนสั่งขาย\",\n",
    "            \"ประเภททับเส้น\",\n",
    "]\n",
    "\n",
    "ordplan[\"กว้างผลิต\"] = round(ordplan[\"กว้างผลิต\"] / 25.4, 4)\n",
    "ordplan[\"ยาวผลิต\"] = round(ordplan[\"ยาวผลิต\"] / 25.4, 4)\n",
    "\n",
    "ordplan.fillna(0, inplace=True)  # fix error values ex. , -> NA\n",
    "        \n",
    "\n",
    "\n",
    "\n",
    "ordplan.to_csv('output.csv', encoding='utf-8')"
   ]
  },
  {
   "cell_type": "code",
   "execution_count": null,
   "metadata": {},
   "outputs": [],
   "source": []
  }
 ],
 "metadata": {
  "kernelspec": {
   "display_name": ".venv",
   "language": "python",
   "name": "python3"
  },
  "language_info": {
   "codemirror_mode": {
    "name": "ipython",
    "version": 3
   },
   "file_extension": ".py",
   "mimetype": "text/x-python",
   "name": "python",
   "nbconvert_exporter": "python",
   "pygments_lexer": "ipython3",
   "version": "3.11.9"
  }
 },
 "nbformat": 4,
 "nbformat_minor": 2
}
